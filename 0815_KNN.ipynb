{
  "nbformat": 4,
  "nbformat_minor": 0,
  "metadata": {
    "colab": {
      "name": "0815_KNN.ipynb",
      "provenance": [],
      "authorship_tag": "ABX9TyMlYdMQ/z3Zh0D1DPOnTpaG",
      "include_colab_link": true
    },
    "kernelspec": {
      "name": "python3",
      "display_name": "Python 3"
    },
    "language_info": {
      "name": "python"
    }
  },
  "cells": [
    {
      "cell_type": "markdown",
      "metadata": {
        "id": "view-in-github",
        "colab_type": "text"
      },
      "source": [
        "<a href=\"https://colab.research.google.com/github/iby3427/pocket/blob/main/0815_KNN.ipynb\" target=\"_parent\"><img src=\"https://colab.research.google.com/assets/colab-badge.svg\" alt=\"Open In Colab\"/></a>"
      ]
    },
    {
      "cell_type": "markdown",
      "metadata": {
        "id": "TSeIpUSJ1tEJ"
      },
      "source": [
        "데이터 셋 만들기"
      ]
    },
    {
      "cell_type": "code",
      "metadata": {
        "id": "iQnCN9eb1iOS"
      },
      "source": [
        "# Data set\n",
        "# 엑셀 파일 가져와서 붙여넣기\n",
        "# [x,y,z,type]\n"
      ],
      "execution_count": null,
      "outputs": []
    },
    {
      "cell_type": "markdown",
      "metadata": {
        "id": "oO40EZ-H1y_T"
      },
      "source": [
        "거리 계산하기 "
      ]
    },
    {
      "cell_type": "code",
      "metadata": {
        "id": "fF7VugMe11D9"
      },
      "source": [
        "from math import sqrt\n",
        "\n",
        "# 유클리드 거리 공식 이용\n",
        "# 3차원 이니까 d = rt(x 값 차이 제곱 + y 값 차이 제곱 + z 값 차이 제곱곱\n",
        "\n",
        "def distance(row1, row2):\n",
        "  dist = 0\n",
        "  for i in range(len(row1)-1): # 마지막에 type 이 포함되어있지 않아서 -1 넣는거임\n",
        "    dist += (row1[i] - row2[i])**2\n",
        "  return sqrt(dist)"
      ],
      "execution_count": null,
      "outputs": []
    },
    {
      "cell_type": "markdown",
      "metadata": {
        "id": "66CfvR-k6nZu"
      },
      "source": [
        "테스트"
      ]
    },
    {
      "cell_type": "code",
      "metadata": {
        "id": "Sb19DNpB6nCl"
      },
      "source": [
        "row0 = [3,3]\n",
        "for row in dataset:\n",
        "  distance = distance(row0, row)\n",
        "  print(distance)"
      ],
      "execution_count": null,
      "outputs": []
    },
    {
      "cell_type": "markdown",
      "metadata": {
        "id": "AfddPA8Y68Es"
      },
      "source": [
        "가장 근처에 있는 요소 뽑기"
      ]
    },
    {
      "cell_type": "code",
      "metadata": {
        "id": "EKcxkMvN5SWv"
      },
      "source": [
        "# Locate the most similar neighbors\n",
        "\n",
        "def get_neighbors(train, test_row, num_neighbors):\n",
        "  distances = list()\n",
        "  for train_row in train:\n",
        "    dist = distance(test_row, train_row)\n",
        "    distances.append((train_row, dist))\n",
        "  distances.sort(key=lamba tup:tup[1])\n",
        "  neighbors = list()\n",
        "  for i in range(num_neighbors):\n",
        "    neighbor.append(distances[i][0])\n",
        "  return neighbors\n",
        "\n",
        "# train 변수는 데이터셋\n",
        "# test_row 는 측정하고자 하는 좌표\n",
        "# num_neighbors 는 K "
      ],
      "execution_count": null,
      "outputs": []
    },
    {
      "cell_type": "markdown",
      "metadata": {
        "id": "uF4iOG3g9WRp"
      },
      "source": [
        "테스트"
      ]
    },
    {
      "cell_type": "code",
      "metadata": {
        "id": "AU-TnJqq9V2e"
      },
      "source": [
        "neighbos = get_neighbors(dataset, row0, 3)\n",
        "for neighbot in neighbors:\n",
        "  print(neighbor)"
      ],
      "execution_count": null,
      "outputs": []
    },
    {
      "cell_type": "markdown",
      "metadata": {
        "id": "WFBu0SMr_cMN"
      },
      "source": [
        "예측하"
      ]
    },
    {
      "cell_type": "code",
      "metadata": {
        "id": "vlp-rI7R_a77"
      },
      "source": [
        "def predict_classification(train, test_row, num_neighbors):\n",
        "  neighbors = get_neighbors(train, test_row, num_neighbors)\n",
        "  for neighbor in neighbors:\n",
        "    print(neighbor)\n",
        "  output_values = [row[-1] for row in neighbors]\n",
        "  prediction = max(set(output_values), key=output_values.count)\n",
        "  return prediction"
      ],
      "execution_count": null,
      "outputs": []
    },
    {
      "cell_type": "markdown",
      "metadata": {
        "id": "I40KLN_D_YWL"
      },
      "source": [
        "출처:\n",
        "https://firework-ham.tistory.com/27\n",
        "\n",
        "원본:\n",
        "https://machinelearningmastery.com/tutorial-to-implement-k-nearest-neighbors-in-python-from-scratch/\n",
        "\n",
        "그외 추가 추천:\n",
        "https://realpython.com/knn-python/\n",
        "\n",
        "싸이킷런:\n",
        "http://hleecaster.com/ml-knn-classifier-example/?amp\n",
        "\n"
      ]
    }
  ]
}